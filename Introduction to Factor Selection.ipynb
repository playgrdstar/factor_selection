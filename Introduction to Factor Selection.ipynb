{
 "cells": [
  {
   "cell_type": "markdown",
   "metadata": {},
   "source": [
    "### Factor Selection ###"
   ]
  },
  {
   "cell_type": "markdown",
   "metadata": {},
   "source": [
    "Why is there a need for factor selection?\n",
    "> Adding more and more factors into your regression may make the training model's performance seem better and better. In fact, you could potentially get perfect performance if you throw enough factors into a regression model. However, such an approach is a generally a bad idea. Aside from the issues relating to collecting more data and making sure the sample size is adequate, the more important issue is with regards to to overfitting. "
   ]
  },
  {
   "cell_type": "markdown",
   "metadata": {},
   "source": [
    "Overfitting happens when a model fits so well to the development or training data, that it will perform very badly once we give it any data (from the real world) that is different from the training set."
   ]
  },
  {
   "cell_type": "markdown",
   "metadata": {},
   "source": [
    "** Overfitting Example **"
   ]
  },
  {
   "cell_type": "markdown",
   "metadata": {},
   "source": [
    "Let's use data from Kaggle to see what the consequence of overfitting is. The dataset is a survey of young people on a broad range of interests and preferences, obtained from https://www.kaggle.com/miroslavsabo/young-people-survey/version/2"
   ]
  },
  {
   "cell_type": "code",
   "execution_count": 26,
   "metadata": {
    "collapsed": true
   },
   "outputs": [],
   "source": [
    "import pandas as pd\n",
    "young_responses = pd.read_csv('young-people-survey/responses.csv')"
   ]
  },
  {
   "cell_type": "code",
   "execution_count": 27,
   "metadata": {},
   "outputs": [
    {
     "data": {
      "text/html": [
       "<div>\n",
       "<style>\n",
       "    .dataframe thead tr:only-child th {\n",
       "        text-align: right;\n",
       "    }\n",
       "\n",
       "    .dataframe thead th {\n",
       "        text-align: left;\n",
       "    }\n",
       "\n",
       "    .dataframe tbody tr th {\n",
       "        vertical-align: top;\n",
       "    }\n",
       "</style>\n",
       "<table border=\"1\" class=\"dataframe\">\n",
       "  <thead>\n",
       "    <tr style=\"text-align: right;\">\n",
       "      <th></th>\n",
       "      <th>Music</th>\n",
       "      <th>Slow songs or fast songs</th>\n",
       "      <th>Dance</th>\n",
       "      <th>Folk</th>\n",
       "      <th>Country</th>\n",
       "      <th>Classical music</th>\n",
       "      <th>Musical</th>\n",
       "      <th>Pop</th>\n",
       "      <th>Rock</th>\n",
       "      <th>Metal or Hardrock</th>\n",
       "      <th>...</th>\n",
       "      <th>Age</th>\n",
       "      <th>Height</th>\n",
       "      <th>Weight</th>\n",
       "      <th>Number of siblings</th>\n",
       "      <th>Gender</th>\n",
       "      <th>Left - right handed</th>\n",
       "      <th>Education</th>\n",
       "      <th>Only child</th>\n",
       "      <th>Village - town</th>\n",
       "      <th>House - block of flats</th>\n",
       "    </tr>\n",
       "  </thead>\n",
       "  <tbody>\n",
       "    <tr>\n",
       "      <th>0</th>\n",
       "      <td>5.0</td>\n",
       "      <td>3.0</td>\n",
       "      <td>2.0</td>\n",
       "      <td>1.0</td>\n",
       "      <td>2.0</td>\n",
       "      <td>2.0</td>\n",
       "      <td>1.0</td>\n",
       "      <td>5.0</td>\n",
       "      <td>5.0</td>\n",
       "      <td>1.0</td>\n",
       "      <td>...</td>\n",
       "      <td>20.0</td>\n",
       "      <td>163.0</td>\n",
       "      <td>48.0</td>\n",
       "      <td>1.0</td>\n",
       "      <td>female</td>\n",
       "      <td>right handed</td>\n",
       "      <td>college/bachelor degree</td>\n",
       "      <td>no</td>\n",
       "      <td>village</td>\n",
       "      <td>block of flats</td>\n",
       "    </tr>\n",
       "    <tr>\n",
       "      <th>1</th>\n",
       "      <td>4.0</td>\n",
       "      <td>4.0</td>\n",
       "      <td>2.0</td>\n",
       "      <td>1.0</td>\n",
       "      <td>1.0</td>\n",
       "      <td>1.0</td>\n",
       "      <td>2.0</td>\n",
       "      <td>3.0</td>\n",
       "      <td>5.0</td>\n",
       "      <td>4.0</td>\n",
       "      <td>...</td>\n",
       "      <td>19.0</td>\n",
       "      <td>163.0</td>\n",
       "      <td>58.0</td>\n",
       "      <td>2.0</td>\n",
       "      <td>female</td>\n",
       "      <td>right handed</td>\n",
       "      <td>college/bachelor degree</td>\n",
       "      <td>no</td>\n",
       "      <td>city</td>\n",
       "      <td>block of flats</td>\n",
       "    </tr>\n",
       "    <tr>\n",
       "      <th>2</th>\n",
       "      <td>5.0</td>\n",
       "      <td>5.0</td>\n",
       "      <td>2.0</td>\n",
       "      <td>2.0</td>\n",
       "      <td>3.0</td>\n",
       "      <td>4.0</td>\n",
       "      <td>5.0</td>\n",
       "      <td>3.0</td>\n",
       "      <td>5.0</td>\n",
       "      <td>3.0</td>\n",
       "      <td>...</td>\n",
       "      <td>20.0</td>\n",
       "      <td>176.0</td>\n",
       "      <td>67.0</td>\n",
       "      <td>2.0</td>\n",
       "      <td>female</td>\n",
       "      <td>right handed</td>\n",
       "      <td>secondary school</td>\n",
       "      <td>no</td>\n",
       "      <td>city</td>\n",
       "      <td>block of flats</td>\n",
       "    </tr>\n",
       "  </tbody>\n",
       "</table>\n",
       "<p>3 rows × 150 columns</p>\n",
       "</div>"
      ],
      "text/plain": [
       "   Music  Slow songs or fast songs  Dance  Folk  Country  Classical music  \\\n",
       "0    5.0                       3.0    2.0   1.0      2.0              2.0   \n",
       "1    4.0                       4.0    2.0   1.0      1.0              1.0   \n",
       "2    5.0                       5.0    2.0   2.0      3.0              4.0   \n",
       "\n",
       "   Musical  Pop  Rock  Metal or Hardrock           ...             Age  \\\n",
       "0      1.0  5.0   5.0                1.0           ...            20.0   \n",
       "1      2.0  3.0   5.0                4.0           ...            19.0   \n",
       "2      5.0  3.0   5.0                3.0           ...            20.0   \n",
       "\n",
       "   Height  Weight  Number of siblings  Gender  Left - right handed  \\\n",
       "0   163.0    48.0                 1.0  female         right handed   \n",
       "1   163.0    58.0                 2.0  female         right handed   \n",
       "2   176.0    67.0                 2.0  female         right handed   \n",
       "\n",
       "                 Education  Only child  Village - town  House - block of flats  \n",
       "0  college/bachelor degree          no         village          block of flats  \n",
       "1  college/bachelor degree          no            city          block of flats  \n",
       "2         secondary school          no            city          block of flats  \n",
       "\n",
       "[3 rows x 150 columns]"
      ]
     },
     "execution_count": 27,
     "metadata": {},
     "output_type": "execute_result"
    }
   ],
   "source": [
    "young_responses.head(3)"
   ]
  },
  {
   "cell_type": "markdown",
   "metadata": {},
   "source": [
    "Let's try to see if we can predict the respondent's happiness in life ('Happiness in life') based on some other answers -\n",
    "- Whether he/she enjoys music ('Music')\n",
    "- Whether he/she likes to watch movies ('Movies')\n",
    "- Whether he/she likes socialising ('Fun with friends')\n",
    "- Whether he/she fears some things ('Flying', 'Storm', 'Darkness', 'Heights', 'Spiders', 'Snakes', 'Rats')\n",
    "- How are he or she is ('Daily events')\n",
    "- Whether he or she prefers money or friends ('Friends versus money')"
   ]
  },
  {
   "cell_type": "markdown",
   "metadata": {},
   "source": [
    "There are a lot more dimensions than this, but let's keep to these for now."
   ]
  },
  {
   "cell_type": "code",
   "execution_count": 68,
   "metadata": {
    "collapsed": true
   },
   "outputs": [],
   "source": [
    "young_responses = young_responses.dropna()"
   ]
  },
  {
   "cell_type": "code",
   "execution_count": 69,
   "metadata": {},
   "outputs": [],
   "source": [
    "independent_var = young_responses[['Music', 'Movies', 'Fun with friends',\n",
    "                'Flying', 'Storm', 'Darkness', 'Heights', 'Spiders', 'Snakes', 'Rats',\n",
    "               'Daily events', 'Friends versus money']]\n",
    "dependent_var = young_responses[['Happiness in life']]"
   ]
  },
  {
   "cell_type": "code",
   "execution_count": 70,
   "metadata": {
    "collapsed": true
   },
   "outputs": [],
   "source": [
    "X = independent_var.values\n",
    "y = dependent_var.values"
   ]
  },
  {
   "cell_type": "markdown",
   "metadata": {},
   "source": [
    "Now we shall move from simple linear regression, to 2nd and 3rd order polynomial regression. In-sample results (measured by the mean of squared errors or differences between the predicted and actual happiness) will improve more and more since our model is fitted closer and closer to each of the data points. But you will see out-of-sample drop. "
   ]
  },
  {
   "cell_type": "code",
   "execution_count": 71,
   "metadata": {},
   "outputs": [
    {
     "name": "stdout",
     "output_type": "stream",
     "text": [
      "Train (cases, features) = (471, 12)\n",
      "Test  (cases, features) = (203, 12)\n",
      "In-sample  mean squared error 0.617\n",
      "Out-sample mean squared error 0.631\n"
     ]
    }
   ],
   "source": [
    "from sklearn.metrics import mean_squared_error\n",
    "from sklearn.linear_model import LinearRegression\n",
    "from sklearn.cross_validation import train_test_split\n",
    "\n",
    "X_train, X_test, y_train, y_test = train_test_split(X, y, test_size=0.30, random_state=3)\n",
    "\n",
    "lm = LinearRegression()\n",
    "lm.fit(X_train,y_train)\n",
    "\n",
    "print ('Train (cases, features) = %s' % str(X_train.shape))\n",
    "print ('Test  (cases, features) = %s' % str(X_test.shape))\n",
    "print ('In-sample  mean squared error %0.3f' % mean_squared_error(y_train,lm.predict(X_train)))\n",
    "print ('Out-sample mean squared error %0.3f' % mean_squared_error(y_test,lm.predict(X_test)))"
   ]
  },
  {
   "cell_type": "code",
   "execution_count": 72,
   "metadata": {
    "collapsed": true
   },
   "outputs": [],
   "source": [
    "from sklearn.preprocessing import PolynomialFeatures\n",
    "second_order=PolynomialFeatures(degree=2, interaction_only=False)\n",
    "third_order=PolynomialFeatures(degree=3, interaction_only=True)"
   ]
  },
  {
   "cell_type": "markdown",
   "metadata": {},
   "source": [
    "Fitting closer with a 2nd order polynomial"
   ]
  },
  {
   "cell_type": "code",
   "execution_count": 73,
   "metadata": {},
   "outputs": [
    {
     "name": "stdout",
     "output_type": "stream",
     "text": [
      "(cases, features) = (471, 91)\n",
      "In-sample  mean squared error 0.522\n",
      "Out-sample mean squared error 0.724\n"
     ]
    }
   ],
   "source": [
    "lm.fit(second_order.fit_transform(X_train),y_train)\n",
    "print ('(cases, features) = %s' % str(second_order.fit_transform(X_train).shape))\n",
    "print ('In-sample  mean squared error %0.3f' % mean_squared_error(y_train,lm.predict(second_order.fit_transform(X_train))))\n",
    "print ('Out-sample mean squared error %0.3f' % mean_squared_error(y_test,lm.predict(second_order.fit_transform(X_test))))"
   ]
  },
  {
   "cell_type": "markdown",
   "metadata": {},
   "source": [
    "Fitting even closer with a 3rd order polynomial"
   ]
  },
  {
   "cell_type": "code",
   "execution_count": 74,
   "metadata": {},
   "outputs": [
    {
     "name": "stdout",
     "output_type": "stream",
     "text": [
      "(cases, features) = (471, 299)\n",
      "In-sample  mean squared error 0.217\n",
      "Out-sample mean squared error 20.591\n"
     ]
    }
   ],
   "source": [
    "lm.fit(third_order.fit_transform(X_train), y_train)\n",
    "print ('(cases, features) = %s' % str(third_order.fit_transform(X_train).shape))\n",
    "print ('In-sample  mean squared error %0.3f' %\n",
    "mean_squared_error(y_train,lm.predict(third_order.fit_transform(X_train))))\n",
    "print ('Out-sample mean squared error %0.3f' %\n",
    "mean_squared_error(y_test,lm.predict(third_order.fit_transform(X_test))))\n"
   ]
  },
  {
   "cell_type": "markdown",
   "metadata": {},
   "source": [
    "<hr>"
   ]
  },
  {
   "cell_type": "markdown",
   "metadata": {},
   "source": [
    "** Checking the Correlations in a Dataset **"
   ]
  },
  {
   "cell_type": "markdown",
   "metadata": {},
   "source": [
    "The obvious way to solve the issue of overfitting is to start getting rid of extraneous variables. One quick way of doing this is to eliminate factors that are correlated with each other. We can simply examine a correlation matrix to do this."
   ]
  },
  {
   "cell_type": "code",
   "execution_count": 75,
   "metadata": {},
   "outputs": [
    {
     "name": "stdout",
     "output_type": "stream",
     "text": [
      "Training set: 471 observations 12 features\n",
      "Validation set: 203 observations 12 features\n"
     ]
    }
   ],
   "source": [
    "print ('Training set: %i observations %i features' % (X_train.shape))\n",
    "print ('Validation set: %i observations %i features' % (X_test.shape))"
   ]
  },
  {
   "cell_type": "code",
   "execution_count": 76,
   "metadata": {},
   "outputs": [
    {
     "name": "stdout",
     "output_type": "stream",
     "text": [
      "DescribeResult(nobs=471, minmax=(array([ 2.,  1.,  2.,  1.,  1.,  1.,  1.,  1.,  1.,  1.,  1.,  1.]), array([ 5.,  5.,  5.,  5.,  5.,  5.,  5.,  5.,  5.,  5.,  5.,  5.])), mean=array([ 4.78768577,  4.62845011,  4.56900212,  1.96178344,  1.94692144,\n",
      "        2.28025478,  2.57749469,  2.79193206,  3.        ,  2.38428875,\n",
      "        3.0955414 ,  3.77707006]), variance=array([ 0.29525229,  0.45527398,  0.49682432,  1.27087681,  1.3482405 ,\n",
      "        1.61065185,  1.72962009,  2.4629986 ,  2.25106383,  1.95200795,\n",
      "        1.24829923,  1.25870714]), skewness=array([-2.96198154, -1.97141073, -1.61401196,  0.97599695,  1.09112067,\n",
      "        0.72018659,  0.40161352,  0.23739422, -0.00756769,  0.55963674,\n",
      "        0.1411506 , -0.64874969]), kurtosis=array([ 9.42609693,  4.22353256,  2.03602405,  0.08531691,  0.19819345,\n",
      "       -0.54781455, -0.96147391, -1.48197486, -1.40358096, -0.99988482,\n",
      "       -0.64169235, -0.32743757]))\n"
     ]
    }
   ],
   "source": [
    "from scipy.stats import describe\n",
    "print(describe(X_train))"
   ]
  },
  {
   "cell_type": "code",
   "execution_count": 77,
   "metadata": {
    "collapsed": true
   },
   "outputs": [],
   "source": [
    "import numpy as np\n",
    "import matplotlib.pyplot as plt\n",
    "import matplotlib as mpl\n",
    "%matplotlib inline\n",
    "\n",
    "# Reference http://stackoverflow.com/questions/14391959/heatmap-in-matplotlib-with-pcolor\n",
    "# http://matplotlib.org/api/axes_api.html\n",
    "def corr_matrix_plot(data, threshold=0):\n",
    "    # returns pearson correlation coeff, rowvar means cols are the features\n",
    "    R = np.corrcoef(data, rowvar=0)\n",
    "    R[np.where(np.abs(R)<threshold)] = 0.0\n",
    "    heatmap = plt.pcolor(R, cmap=mpl.cm.coolwarm, alpha=0.8)\n",
    "    heatmap.axes.set_frame_on(False) # Set whether the axes rectangle patch is drawn\n",
    "    plt.xticks(rotation=90)\n",
    "    plt.tick_params(axis='both', which='both', bottom='off',top='off', left = 'off',right = 'off')\n",
    "    plt.colorbar()\n",
    "    plt.show()"
   ]
  },
  {
   "cell_type": "code",
   "execution_count": 78,
   "metadata": {},
   "outputs": [
    {
     "data": {
      "image/png": "[encoded data removed]",
      "text/plain": [
       "<matplotlib.figure.Figure at 0x11af15518>"
      ]
     },
     "metadata": {},
     "output_type": "display_data"
    }
   ],
   "source": [
    "corr_matrix_plot(X_train, threshold=0.0)"
   ]
  },
  {
   "cell_type": "markdown",
   "metadata": {},
   "source": [
    "*See the orangy dots outside of the diagonal? A heatmap allows us to see these spots where correlation is higher straightaway.*"
   ]
  },
  {
   "cell_type": "markdown",
   "metadata": {},
   "source": [
    "** Univariate feature selection - Stepwise selection **\n",
    "\n",
    "Other than eliminating variables with high correlation (and by tenuous inference - high collinearity), simplest way would be to use statistical tests."
   ]
  },
  {
   "cell_type": "markdown",
   "metadata": {},
   "source": [
    "Scikit-learn offers three possible tests:\n",
    "\n",
    "* The f_regression class, which works out an F-test (a statistical test for comparing different regression solutions) and a p-value (interpretable as the probability value in which we observed a difference by chance) and reveals the best features for a regression\n",
    "* The f_class, which is an Anova F-test (a statistical test for comparing differences among classes), another statistical and related method that will prove useful for classification problems\n",
    "* The Chi2 class, which is a chi-squared test (a statistical test on count data), a good choice when your problem is classification and your answer variable is a count or a binary (in every case, a positive number such as units sold or money earned)\n"
   ]
  },
  {
   "cell_type": "code",
   "execution_count": 79,
   "metadata": {
    "collapsed": true
   },
   "outputs": [],
   "source": [
    "y_train = y_train.ravel()"
   ]
  },
  {
   "cell_type": "code",
   "execution_count": 80,
   "metadata": {},
   "outputs": [],
   "source": [
    "# using the f_class test\n",
    "from sklearn.feature_selection import SelectPercentile, f_classif\n",
    "selector = SelectPercentile(f_classif, percentile=50)\n",
    "selector.fit(X_train, y_train)\n",
    "variable_filter = selector.get_support()"
   ]
  },
  {
   "cell_type": "code",
   "execution_count": 81,
   "metadata": {},
   "outputs": [
    {
     "data": {
      "image/png": "[encoded data removed]",
      "text/plain": [
       "<matplotlib.figure.Figure at 0x11af7a4a8>"
      ]
     },
     "metadata": {},
     "output_type": "display_data"
    }
   ],
   "source": [
    "# plotting the scores\n",
    "plt.hist(selector.scores_, bins=50, histtype='bar')\n",
    "plt.grid()\n",
    "plt.show()"
   ]
  },
  {
   "cell_type": "code",
   "execution_count": 83,
   "metadata": {},
   "outputs": [
    {
     "name": "stdout",
     "output_type": "stream",
     "text": [
      "Number of filtered variables: 1\n",
      "Number of variables and interactions: 2\n"
     ]
    }
   ],
   "source": [
    "# picking the top features\n",
    "variable_filter = selector.scores_ > 5\n",
    "print (\"Number of filtered variables: %i\" % np.sum(variable_filter))\n",
    "from sklearn.preprocessing import PolynomialFeatures\n",
    "interactions = PolynomialFeatures(degree=2, interaction_only=True)\n",
    "Xs = interactions.fit_transform(X_train[:,variable_filter])\n",
    "print (\"Number of variables and interactions: %i\" % Xs.shape[1])"
   ]
  }
 ],
 "metadata": {
  "kernelspec": {
   "display_name": "Python 3",
   "language": "python",
   "name": "python3"
  },
  "language_info": {
   "codemirror_mode": {
    "name": "ipython",
    "version": 3
   },
   "file_extension": ".py",
   "mimetype": "text/x-python",
   "name": "python",
   "nbconvert_exporter": "python",
   "pygments_lexer": "ipython3",
   "version": "3.5.3"
  }
 },
 "nbformat": 4,
 "nbformat_minor": 1
}
